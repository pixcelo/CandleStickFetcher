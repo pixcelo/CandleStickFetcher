{
 "cells": [
  {
   "cell_type": "code",
   "execution_count": 155,
   "metadata": {},
   "outputs": [],
   "source": [
    "import asyncio\n",
    "import pybotters\n",
    "import pandas as pd\n",
    "from loguru import logger\n",
    "\n",
    "import pandas as pd\n",
    "import datetime\n",
    "import math\n",
    "from typing import Tuple"
   ]
  },
  {
   "cell_type": "code",
   "execution_count": 156,
   "metadata": {},
   "outputs": [
    {
     "name": "stdout",
     "output_type": "stream",
     "text": [
      "https://api.cryptowat.ch/markets/bitflyer/btcfxjpy/ohlc?periods=900&after=1675368565\n"
     ]
    }
   ],
   "source": [
    "# e.g. https://api.cryptowat.ch/markets/:exchange/:pair/ohlc\n",
    "def generate_path(\n",
    "        exchange: str,\n",
    "        pair: str,\n",
    "        min: int,\n",
    "        unixTime: int) -> str:\n",
    "    \n",
    "    return f'https://api.cryptowat.ch/markets/{exchange}/{pair}/ohlc?periods={min}&after={unixTime}'\n",
    "\n",
    "print(generate_path('bitflyer', 'btcfxjpy', 900, 1675368565))"
   ]
  },
  {
   "cell_type": "code",
   "execution_count": 157,
   "metadata": {},
   "outputs": [
    {
     "name": "stdout",
     "output_type": "stream",
     "text": [
      "1653613883\n"
     ]
    }
   ],
   "source": [
    "def str_to_timestamp(s: str) -> int:\n",
    "\n",
    "    # str → datetime e.g.'2022-05-27 10:11:23'\n",
    "    dt = datetime.datetime.strptime(s, \"%Y-%m-%d %H:%M:%S\")\n",
    "\n",
    "    # datetime → timestamp\n",
    "    ts = datetime.datetime.timestamp(dt)\n",
    "\n",
    "    return math.floor(ts)\n",
    "\n",
    "ts = str_to_timestamp('2022-05-27 10:11:23')\n",
    "print(ts)"
   ]
  },
  {
   "cell_type": "code",
   "execution_count": 158,
   "metadata": {},
   "outputs": [],
   "source": [
    "def get_url(candle: int, date: str, size: int) -> Tuple[str, str]:\n",
    "        url = 'https://api.cryptowat.ch/markets/bitflyer/btcfxjpy/ohlc?periods='\n",
    "        candle = candle*60\n",
    "        period = ('%s'%(candle))\n",
    "        beforeurl = '&before='\n",
    "        afterurl = '&after='\n",
    "        # The maximum size of data is 6000 depending on a timing (sometimes you get less than 6000)\n",
    "        before = str_to_timestamp(date)\n",
    "        after = before - (candle * size)\n",
    "        URL=('%s%s%s%s%s%s'%(url, candle, afterurl, after, beforeurl, before))\n",
    "        # e.g https://api.cryptowat.ch/markets/bitflyer/btcjpy/ohlc?periods=86400&after=1483196400\n",
    "\n",
    "        return URL, period"
   ]
  },
  {
   "cell_type": "code",
   "execution_count": 159,
   "metadata": {},
   "outputs": [],
   "source": [
    "async def main(candle: int, date: str, size: int) -> pd.DataFrame:\n",
    "    async with pybotters.Client() as client:\n",
    "        URL, period = get_url(candle, date, size)\n",
    "\n",
    "        response = await client.get(URL)\n",
    "        body = await response.json()\n",
    "        res = body['result']\n",
    "        \n",
    "        data = []\n",
    "        for column in res[period]:\n",
    "            if column[4] != 0:\n",
    "                column = column[0:6]\n",
    "                data.append(column)\n",
    "\n",
    "        date = [price[0] for price in data]\n",
    "        op = [float(price[1]) for price in data]\n",
    "        hi = [float(price[2]) for price in data]\n",
    "        lo = [float(price[3]) for price in data]\n",
    "        cl = [float(price[4]) for price in data]\n",
    "        volume = [float(price[5]) for price in data]\n",
    "        date_datetime = map(datetime.datetime.fromtimestamp, date)\n",
    "        dti = pd.DatetimeIndex(date_datetime)\n",
    "        df = pd.DataFrame({\"op\" : op, \"hi\" : hi, \"lo\": lo, \"cl\" : cl, \"volume\" : volume}, index=dti)\n",
    "        \n",
    "        return df"
   ]
  },
  {
   "cell_type": "code",
   "execution_count": 160,
   "metadata": {},
   "outputs": [
    {
     "data": {
      "text/html": [
       "<div>\n",
       "<style scoped>\n",
       "    .dataframe tbody tr th:only-of-type {\n",
       "        vertical-align: middle;\n",
       "    }\n",
       "\n",
       "    .dataframe tbody tr th {\n",
       "        vertical-align: top;\n",
       "    }\n",
       "\n",
       "    .dataframe thead th {\n",
       "        text-align: right;\n",
       "    }\n",
       "</style>\n",
       "<table border=\"1\" class=\"dataframe\">\n",
       "  <thead>\n",
       "    <tr style=\"text-align: right;\">\n",
       "      <th></th>\n",
       "      <th>op</th>\n",
       "      <th>hi</th>\n",
       "      <th>lo</th>\n",
       "      <th>cl</th>\n",
       "      <th>volume</th>\n",
       "    </tr>\n",
       "  </thead>\n",
       "  <tbody>\n",
       "    <tr>\n",
       "      <th>2022-12-03 18:00:00</th>\n",
       "      <td>2295342.0</td>\n",
       "      <td>2298682.0</td>\n",
       "      <td>2293000.0</td>\n",
       "      <td>2295615.0</td>\n",
       "      <td>77.574174</td>\n",
       "    </tr>\n",
       "    <tr>\n",
       "      <th>2022-12-03 18:15:00</th>\n",
       "      <td>2295696.0</td>\n",
       "      <td>2298321.0</td>\n",
       "      <td>2294116.0</td>\n",
       "      <td>2297404.0</td>\n",
       "      <td>30.543160</td>\n",
       "    </tr>\n",
       "    <tr>\n",
       "      <th>2022-12-03 18:30:00</th>\n",
       "      <td>2297487.0</td>\n",
       "      <td>2298157.0</td>\n",
       "      <td>2296549.0</td>\n",
       "      <td>2298122.0</td>\n",
       "      <td>8.825385</td>\n",
       "    </tr>\n",
       "    <tr>\n",
       "      <th>2022-12-03 18:45:00</th>\n",
       "      <td>2298102.0</td>\n",
       "      <td>2298913.0</td>\n",
       "      <td>2297168.0</td>\n",
       "      <td>2297429.0</td>\n",
       "      <td>13.106698</td>\n",
       "    </tr>\n",
       "    <tr>\n",
       "      <th>2022-12-03 19:00:00</th>\n",
       "      <td>2297695.0</td>\n",
       "      <td>2300840.0</td>\n",
       "      <td>2297424.0</td>\n",
       "      <td>2300109.0</td>\n",
       "      <td>28.126075</td>\n",
       "    </tr>\n",
       "    <tr>\n",
       "      <th>...</th>\n",
       "      <td>...</td>\n",
       "      <td>...</td>\n",
       "      <td>...</td>\n",
       "      <td>...</td>\n",
       "      <td>...</td>\n",
       "    </tr>\n",
       "    <tr>\n",
       "      <th>2023-02-02 19:00:00</th>\n",
       "      <td>3076436.0</td>\n",
       "      <td>3080258.0</td>\n",
       "      <td>3074061.0</td>\n",
       "      <td>3079758.0</td>\n",
       "      <td>38.497302</td>\n",
       "    </tr>\n",
       "    <tr>\n",
       "      <th>2023-02-02 19:15:00</th>\n",
       "      <td>3079612.0</td>\n",
       "      <td>3080461.0</td>\n",
       "      <td>3076000.0</td>\n",
       "      <td>3077042.0</td>\n",
       "      <td>26.473347</td>\n",
       "    </tr>\n",
       "    <tr>\n",
       "      <th>2023-02-02 19:30:00</th>\n",
       "      <td>3076671.0</td>\n",
       "      <td>3078445.0</td>\n",
       "      <td>3075097.0</td>\n",
       "      <td>3076117.0</td>\n",
       "      <td>22.083219</td>\n",
       "    </tr>\n",
       "    <tr>\n",
       "      <th>2023-02-02 19:45:00</th>\n",
       "      <td>3076233.0</td>\n",
       "      <td>3076907.0</td>\n",
       "      <td>3071484.0</td>\n",
       "      <td>3074388.0</td>\n",
       "      <td>27.569929</td>\n",
       "    </tr>\n",
       "    <tr>\n",
       "      <th>2023-02-02 20:00:00</th>\n",
       "      <td>3074288.0</td>\n",
       "      <td>3075088.0</td>\n",
       "      <td>3071642.0</td>\n",
       "      <td>3072208.0</td>\n",
       "      <td>17.145908</td>\n",
       "    </tr>\n",
       "  </tbody>\n",
       "</table>\n",
       "<p>5861 rows × 5 columns</p>\n",
       "</div>"
      ],
      "text/plain": [
       "                            op         hi         lo         cl     volume\n",
       "2022-12-03 18:00:00  2295342.0  2298682.0  2293000.0  2295615.0  77.574174\n",
       "2022-12-03 18:15:00  2295696.0  2298321.0  2294116.0  2297404.0  30.543160\n",
       "2022-12-03 18:30:00  2297487.0  2298157.0  2296549.0  2298122.0   8.825385\n",
       "2022-12-03 18:45:00  2298102.0  2298913.0  2297168.0  2297429.0  13.106698\n",
       "2022-12-03 19:00:00  2297695.0  2300840.0  2297424.0  2300109.0  28.126075\n",
       "...                        ...        ...        ...        ...        ...\n",
       "2023-02-02 19:00:00  3076436.0  3080258.0  3074061.0  3079758.0  38.497302\n",
       "2023-02-02 19:15:00  3079612.0  3080461.0  3076000.0  3077042.0  26.473347\n",
       "2023-02-02 19:30:00  3076671.0  3078445.0  3075097.0  3076117.0  22.083219\n",
       "2023-02-02 19:45:00  3076233.0  3076907.0  3071484.0  3074388.0  27.569929\n",
       "2023-02-02 20:00:00  3074288.0  3075088.0  3071642.0  3072208.0  17.145908\n",
       "\n",
       "[5861 rows x 5 columns]"
      ]
     },
     "metadata": {},
     "output_type": "display_data"
    },
    {
     "name": "stdout",
     "output_type": "stream",
     "text": [
      "op        float64\n",
      "hi        float64\n",
      "lo        float64\n",
      "cl        float64\n",
      "volume    float64\n",
      "dtype: object\n"
     ]
    }
   ],
   "source": [
    "if __name__ == '__main__':\n",
    "    try:\n",
    "        df = await main(15, '2023-02-02 20:09:25', 6000)\n",
    "        display(df)\n",
    "        print(df.dtypes)\n",
    "        df.to_pickle('df_ohlcv.pkl')\n",
    "    except KeyboardInterrupt:\n",
    "        pass"
   ]
  }
 ],
 "metadata": {
  "kernelspec": {
   "display_name": "Python 3",
   "language": "python",
   "name": "python3"
  },
  "language_info": {
   "codemirror_mode": {
    "name": "ipython",
    "version": 3
   },
   "file_extension": ".py",
   "mimetype": "text/x-python",
   "name": "python",
   "nbconvert_exporter": "python",
   "pygments_lexer": "ipython3",
   "version": "3.11.1"
  },
  "orig_nbformat": 4,
  "vscode": {
   "interpreter": {
    "hash": "ad0d3ecc31bdb48673d2cac54857c241eec221b936c60b2b3c0dc41e3431a65e"
   }
  }
 },
 "nbformat": 4,
 "nbformat_minor": 2
}
