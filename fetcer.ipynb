{
 "cells": [
  {
   "cell_type": "code",
   "execution_count": 209,
   "metadata": {},
   "outputs": [],
   "source": [
    "import asyncio\n",
    "import pybotters\n",
    "import pandas as pd\n",
    "from loguru import logger\n",
    "\n",
    "import pandas as pd\n",
    "import datetime\n",
    "import math\n",
    "from typing import Tuple"
   ]
  },
  {
   "cell_type": "code",
   "execution_count": 210,
   "metadata": {},
   "outputs": [
    {
     "name": "stdout",
     "output_type": "stream",
     "text": [
      "https://api.cryptowat.ch/markets/bitflyer/btcfxjpy/ohlc?periods=900&after=1675368565\n"
     ]
    }
   ],
   "source": [
    "# e.g. https://api.cryptowat.ch/markets/:exchange/:pair/ohlc\n",
    "def generate_path(\n",
    "        exchange: str,\n",
    "        pair: str,\n",
    "        min: int,\n",
    "        unixTime: int) -> str:\n",
    "    \n",
    "    return f'https://api.cryptowat.ch/markets/{exchange}/{pair}/ohlc?periods={min}&after={unixTime}'\n",
    "\n",
    "print(generate_path('bitflyer', 'btcfxjpy', 900, 1675368565))"
   ]
  },
  {
   "cell_type": "code",
   "execution_count": 211,
   "metadata": {},
   "outputs": [
    {
     "name": "stdout",
     "output_type": "stream",
     "text": [
      "1653613883\n"
     ]
    }
   ],
   "source": [
    "def str_to_timestamp(s: str) -> int:\n",
    "\n",
    "    # str → datetime e.g.'2022-05-27 10:11:23'\n",
    "    dt = datetime.datetime.strptime(s, \"%Y-%m-%d %H:%M:%S\")\n",
    "\n",
    "    # datetime → timestamp\n",
    "    ts = datetime.datetime.timestamp(dt)\n",
    "\n",
    "    return math.floor(ts)\n",
    "\n",
    "ts = str_to_timestamp('2022-05-27 10:11:23')\n",
    "print(ts)"
   ]
  },
  {
   "cell_type": "code",
   "execution_count": 212,
   "metadata": {},
   "outputs": [],
   "source": [
    "def get_url(candle: int, date: str, size: int) -> Tuple[str, str]:\n",
    "        url = 'https://api.cryptowat.ch/markets/bitflyer/btcfxjpy/ohlc?periods='\n",
    "        candle = candle*60\n",
    "        period = ('%s'%(candle))\n",
    "        beforeurl = '&before='\n",
    "        afterurl = '&after='\n",
    "        # The maximum size of data is 6000 depending on a timing (sometimes you get less than 6000)\n",
    "        before = str_to_timestamp(date)\n",
    "        after = before - (candle * size)\n",
    "        URL=('%s%s%s%s%s%s'%(url, candle, afterurl, after, beforeurl, before))\n",
    "        # e.g https://api.cryptowat.ch/markets/bitflyer/btcjpy/ohlc?periods=86400&after=1483196400\n",
    "\n",
    "        return URL, period"
   ]
  },
  {
   "cell_type": "code",
   "execution_count": 213,
   "metadata": {},
   "outputs": [],
   "source": [
    "async def main(candle: int, date: str, size: int) -> pd.DataFrame:\n",
    "    async with pybotters.Client() as client:\n",
    "        URL, period = get_url(candle, date, size)\n",
    "\n",
    "        response = await client.get(URL)\n",
    "        body = await response.json()\n",
    "        res = body['result']\n",
    "\n",
    "        date, op, hi, lo, cl, volume = [], [], [], [], [], []\n",
    "\n",
    "        for i in res[period]:\n",
    "            date.append(i[0])\n",
    "            op.append(i[1])\n",
    "            hi.append(i[2])\n",
    "            lo.append(i[3])\n",
    "            cl.append(i[4])\n",
    "            volume.append(i[5])\n",
    "\n",
    "        date_datetime = map(datetime.datetime.fromtimestamp, date)\n",
    "        dti = pd.DatetimeIndex(date_datetime, name='date')\n",
    "        df = pd.DataFrame({'op' : op, 'hi' : hi, 'lo': lo, 'cl' : cl, 'volume' : volume}, index=dti)\n",
    "        \n",
    "        return df"
   ]
  },
  {
   "cell_type": "code",
   "execution_count": 214,
   "metadata": {},
   "outputs": [
    {
     "data": {
      "text/html": [
       "<div>\n",
       "<style scoped>\n",
       "    .dataframe tbody tr th:only-of-type {\n",
       "        vertical-align: middle;\n",
       "    }\n",
       "\n",
       "    .dataframe tbody tr th {\n",
       "        vertical-align: top;\n",
       "    }\n",
       "\n",
       "    .dataframe thead th {\n",
       "        text-align: right;\n",
       "    }\n",
       "</style>\n",
       "<table border=\"1\" class=\"dataframe\">\n",
       "  <thead>\n",
       "    <tr style=\"text-align: right;\">\n",
       "      <th></th>\n",
       "      <th>op</th>\n",
       "      <th>hi</th>\n",
       "      <th>lo</th>\n",
       "      <th>cl</th>\n",
       "      <th>volume</th>\n",
       "    </tr>\n",
       "    <tr>\n",
       "      <th>date</th>\n",
       "      <th></th>\n",
       "      <th></th>\n",
       "      <th></th>\n",
       "      <th></th>\n",
       "      <th></th>\n",
       "    </tr>\n",
       "  </thead>\n",
       "  <tbody>\n",
       "    <tr>\n",
       "      <th>2022-12-04 22:30:00</th>\n",
       "      <td>2291854</td>\n",
       "      <td>2291941</td>\n",
       "      <td>2289501</td>\n",
       "      <td>2291406</td>\n",
       "      <td>15.380514</td>\n",
       "    </tr>\n",
       "    <tr>\n",
       "      <th>2022-12-04 22:45:00</th>\n",
       "      <td>2291456</td>\n",
       "      <td>2291746</td>\n",
       "      <td>2288975</td>\n",
       "      <td>2289177</td>\n",
       "      <td>24.124416</td>\n",
       "    </tr>\n",
       "    <tr>\n",
       "      <th>2022-12-04 23:00:00</th>\n",
       "      <td>2289531</td>\n",
       "      <td>2290126</td>\n",
       "      <td>2286200</td>\n",
       "      <td>2290126</td>\n",
       "      <td>33.510044</td>\n",
       "    </tr>\n",
       "    <tr>\n",
       "      <th>2022-12-04 23:15:00</th>\n",
       "      <td>2290026</td>\n",
       "      <td>2291511</td>\n",
       "      <td>2289485</td>\n",
       "      <td>2290093</td>\n",
       "      <td>16.977133</td>\n",
       "    </tr>\n",
       "    <tr>\n",
       "      <th>2022-12-04 23:30:00</th>\n",
       "      <td>2290286</td>\n",
       "      <td>2290870</td>\n",
       "      <td>2287201</td>\n",
       "      <td>2288617</td>\n",
       "      <td>34.443982</td>\n",
       "    </tr>\n",
       "    <tr>\n",
       "      <th>...</th>\n",
       "      <td>...</td>\n",
       "      <td>...</td>\n",
       "      <td>...</td>\n",
       "      <td>...</td>\n",
       "      <td>...</td>\n",
       "    </tr>\n",
       "    <tr>\n",
       "      <th>2023-02-02 19:00:00</th>\n",
       "      <td>3076436</td>\n",
       "      <td>3080258</td>\n",
       "      <td>3074061</td>\n",
       "      <td>3079758</td>\n",
       "      <td>38.497302</td>\n",
       "    </tr>\n",
       "    <tr>\n",
       "      <th>2023-02-02 19:15:00</th>\n",
       "      <td>3079612</td>\n",
       "      <td>3080461</td>\n",
       "      <td>3076000</td>\n",
       "      <td>3077042</td>\n",
       "      <td>26.473347</td>\n",
       "    </tr>\n",
       "    <tr>\n",
       "      <th>2023-02-02 19:30:00</th>\n",
       "      <td>3076671</td>\n",
       "      <td>3078445</td>\n",
       "      <td>3075097</td>\n",
       "      <td>3076117</td>\n",
       "      <td>22.083219</td>\n",
       "    </tr>\n",
       "    <tr>\n",
       "      <th>2023-02-02 19:45:00</th>\n",
       "      <td>3076233</td>\n",
       "      <td>3076907</td>\n",
       "      <td>3071484</td>\n",
       "      <td>3074388</td>\n",
       "      <td>27.569929</td>\n",
       "    </tr>\n",
       "    <tr>\n",
       "      <th>2023-02-02 20:00:00</th>\n",
       "      <td>3074288</td>\n",
       "      <td>3075088</td>\n",
       "      <td>3071642</td>\n",
       "      <td>3072208</td>\n",
       "      <td>17.145908</td>\n",
       "    </tr>\n",
       "  </tbody>\n",
       "</table>\n",
       "<p>5747 rows × 5 columns</p>\n",
       "</div>"
      ],
      "text/plain": [
       "                          op       hi       lo       cl     volume\n",
       "date                                                              \n",
       "2022-12-04 22:30:00  2291854  2291941  2289501  2291406  15.380514\n",
       "2022-12-04 22:45:00  2291456  2291746  2288975  2289177  24.124416\n",
       "2022-12-04 23:00:00  2289531  2290126  2286200  2290126  33.510044\n",
       "2022-12-04 23:15:00  2290026  2291511  2289485  2290093  16.977133\n",
       "2022-12-04 23:30:00  2290286  2290870  2287201  2288617  34.443982\n",
       "...                      ...      ...      ...      ...        ...\n",
       "2023-02-02 19:00:00  3076436  3080258  3074061  3079758  38.497302\n",
       "2023-02-02 19:15:00  3079612  3080461  3076000  3077042  26.473347\n",
       "2023-02-02 19:30:00  3076671  3078445  3075097  3076117  22.083219\n",
       "2023-02-02 19:45:00  3076233  3076907  3071484  3074388  27.569929\n",
       "2023-02-02 20:00:00  3074288  3075088  3071642  3072208  17.145908\n",
       "\n",
       "[5747 rows x 5 columns]"
      ]
     },
     "metadata": {},
     "output_type": "display_data"
    },
    {
     "name": "stdout",
     "output_type": "stream",
     "text": [
      "op          int64\n",
      "hi          int64\n",
      "lo          int64\n",
      "cl          int64\n",
      "volume    float64\n",
      "dtype: object\n"
     ]
    }
   ],
   "source": [
    "if __name__ == '__main__':\n",
    "    try:\n",
    "        df = await main(15, '2023-02-02 20:09:25', 6000)\n",
    "        display(df)\n",
    "        print(df.dtypes)\n",
    "        df.to_pickle('df_ohlcv.pkl')\n",
    "        df.to_csv('df_bitflyer.csv')\n",
    "    except KeyboardInterrupt:\n",
    "        pass"
   ]
  }
 ],
 "metadata": {
  "kernelspec": {
   "display_name": "Python 3",
   "language": "python",
   "name": "python3"
  },
  "language_info": {
   "codemirror_mode": {
    "name": "ipython",
    "version": 3
   },
   "file_extension": ".py",
   "mimetype": "text/x-python",
   "name": "python",
   "nbconvert_exporter": "python",
   "pygments_lexer": "ipython3",
   "version": "3.11.1"
  },
  "orig_nbformat": 4,
  "vscode": {
   "interpreter": {
    "hash": "ad0d3ecc31bdb48673d2cac54857c241eec221b936c60b2b3c0dc41e3431a65e"
   }
  }
 },
 "nbformat": 4,
 "nbformat_minor": 2
}
