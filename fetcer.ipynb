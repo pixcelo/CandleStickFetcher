{
 "cells": [
  {
   "cell_type": "code",
   "execution_count": 21,
   "metadata": {},
   "outputs": [],
   "source": [
    "import asyncio\n",
    "import pybotters\n",
    "import pandas as pd\n",
    "from loguru import logger\n",
    "\n",
    "import json\n",
    "import requests\n",
    "import pandas as pd\n",
    "import datetime\n",
    "import time\n",
    "import math"
   ]
  },
  {
   "cell_type": "code",
   "execution_count": 22,
   "metadata": {},
   "outputs": [],
   "source": [
    "# e.g. https://api.cryptowat.ch/markets/:exchange/:pair/ohlc\n",
    "def generate_path(\n",
    "        exchange: str,\n",
    "        pair: str,\n",
    "        min: int,\n",
    "        unixTime: int) -> str:\n",
    "    \n",
    "    return f'https://api.cryptowat.ch/markets/{exchange}/{pair}/ohlc?periods={min}&after={unixTime}'\n",
    "\n",
    "# print(generate_path(1675368565))"
   ]
  },
  {
   "cell_type": "code",
   "execution_count": 23,
   "metadata": {},
   "outputs": [
    {
     "name": "stdout",
     "output_type": "stream",
     "text": [
      "1653613883.0\n"
     ]
    }
   ],
   "source": [
    "def str_to_timestamp(s: str) -> int:\n",
    "\n",
    "    # str → datetime e.g.'2022-05-27 10:11:23'\n",
    "    dt = datetime.datetime.strptime(s, \"%Y-%m-%d %H:%M:%S\")\n",
    "\n",
    "    # datetime → timestamp\n",
    "    ts = datetime.datetime.timestamp(dt)\n",
    "\n",
    "    return math.floor(ts)\n",
    "\n",
    "ts = str_to_timestamp('2022-05-27 10:11:23')\n",
    "print(ts)"
   ]
  },
  {
   "cell_type": "code",
   "execution_count": 24,
   "metadata": {},
   "outputs": [],
   "source": [
    "async def main(candle: int, date: str, size: int) -> pd.DataFrame:\n",
    "    async with pybotters.Client() as client:\n",
    "        url=\"https://api.cryptowat.ch/markets/bitflyer/btcfxjpy/ohlc?periods=\"\n",
    "        candle=candle*60\n",
    "        period=(\"%s\"%(candle))\n",
    "        period=[period]\n",
    "        beforeurl=\"&before=\"\n",
    "        afterurl=\"&after=\"\n",
    "        # The maximum size of data is 6000 depending on a timing (sometimes you get less than 6000)\n",
    "        before = str_to_timestamp(date)\n",
    "        after = before - (candle * size)\n",
    "        URL=(\"%s%s%s%s%s%s\"%(url,candle,afterurl,after,beforeurl,before))\n",
    "        # e.g https://api.cryptowat.ch/markets/bitflyer/btcjpy/ohlc?periods=86400&after=1483196400\n",
    "\n",
    "        response = await client.get(URL)\n",
    "        body = await response.json()\n",
    "        res = body['result']\n",
    "        \n",
    "        data = []\n",
    "        for i in period:\n",
    "            row = res[i]\n",
    "            for column in row:\n",
    "                if column[4] != 0:\n",
    "                    column = column[0:6]\n",
    "                    data.append(column)\n",
    "\n",
    "        date = [price[0] for price in data]\n",
    "        op = [int(price[1]) for price in data]\n",
    "        hi = [int(price[2]) for price in data]\n",
    "        lo = [int(price[3]) for price in data]\n",
    "        cl = [int(price[4]) for price in data]\n",
    "        date_datetime = map(datetime.datetime.fromtimestamp, date)\n",
    "        dti = pd.DatetimeIndex(date_datetime)\n",
    "        df = pd.DataFrame({\"op\" : op, \"hi\" : hi, \"lo\": lo, \"cl\" : cl}, index=dti)\n",
    "        \n",
    "        return df"
   ]
  },
  {
   "cell_type": "code",
   "execution_count": 25,
   "metadata": {},
   "outputs": [
    {
     "ename": "KeyError",
     "evalue": "'result'",
     "output_type": "error",
     "traceback": [
      "\u001b[0;31m---------------------------------------------------------------------------\u001b[0m",
      "\u001b[0;31mKeyError\u001b[0m                                  Traceback (most recent call last)",
      "Cell \u001b[0;32mIn[25], line 4\u001b[0m\n\u001b[1;32m      1\u001b[0m \u001b[39mif\u001b[39;00m \u001b[39m__name__\u001b[39m \u001b[39m==\u001b[39m \u001b[39m'\u001b[39m\u001b[39m__main__\u001b[39m\u001b[39m'\u001b[39m:\n\u001b[1;32m      2\u001b[0m     \u001b[39mtry\u001b[39;00m:\n\u001b[1;32m      3\u001b[0m         \u001b[39m# df = await main(15, 1675368565, 6000)\u001b[39;00m\n\u001b[0;32m----> 4\u001b[0m         df \u001b[39m=\u001b[39m \u001b[39mawait\u001b[39;00m main(\u001b[39m15\u001b[39m, \u001b[39m'\u001b[39m\u001b[39m2023-02-02 20:09:25\u001b[39m\u001b[39m'\u001b[39m, \u001b[39m6000\u001b[39m)\n\u001b[1;32m      5\u001b[0m         \u001b[39mprint\u001b[39m(df)\n\u001b[1;32m      6\u001b[0m     \u001b[39mexcept\u001b[39;00m \u001b[39mKeyboardInterrupt\u001b[39;00m:\n",
      "Cell \u001b[0;32mIn[24], line 17\u001b[0m, in \u001b[0;36mmain\u001b[0;34m(candle, date, size)\u001b[0m\n\u001b[1;32m     15\u001b[0m response \u001b[39m=\u001b[39m \u001b[39mawait\u001b[39;00m client\u001b[39m.\u001b[39mget(URL)\n\u001b[1;32m     16\u001b[0m body \u001b[39m=\u001b[39m \u001b[39mawait\u001b[39;00m response\u001b[39m.\u001b[39mjson()\n\u001b[0;32m---> 17\u001b[0m res \u001b[39m=\u001b[39m body[\u001b[39m'\u001b[39;49m\u001b[39mresult\u001b[39;49m\u001b[39m'\u001b[39;49m]\n\u001b[1;32m     19\u001b[0m data \u001b[39m=\u001b[39m []\n\u001b[1;32m     20\u001b[0m \u001b[39mfor\u001b[39;00m i \u001b[39min\u001b[39;00m period:\n",
      "\u001b[0;31mKeyError\u001b[0m: 'result'"
     ]
    }
   ],
   "source": [
    "if __name__ == '__main__':\n",
    "    try:\n",
    "        # df = await main(15, 1675368565, 6000)\n",
    "        df = await main(15, '2023-02-02 20:09:25', 6000)\n",
    "        print(df)\n",
    "    except KeyboardInterrupt:\n",
    "        pass"
   ]
  }
 ],
 "metadata": {
  "kernelspec": {
   "display_name": "Python 3",
   "language": "python",
   "name": "python3"
  },
  "language_info": {
   "codemirror_mode": {
    "name": "ipython",
    "version": 3
   },
   "file_extension": ".py",
   "mimetype": "text/x-python",
   "name": "python",
   "nbconvert_exporter": "python",
   "pygments_lexer": "ipython3",
   "version": "3.11.1"
  },
  "orig_nbformat": 4,
  "vscode": {
   "interpreter": {
    "hash": "ad0d3ecc31bdb48673d2cac54857c241eec221b936c60b2b3c0dc41e3431a65e"
   }
  }
 },
 "nbformat": 4,
 "nbformat_minor": 2
}
