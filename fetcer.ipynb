{
 "cells": [
  {
   "cell_type": "code",
   "execution_count": 26,
   "metadata": {},
   "outputs": [],
   "source": [
    "import asyncio\n",
    "import pybotters\n",
    "import pandas as pd\n",
    "from loguru import logger\n",
    "\n",
    "import json\n",
    "import requests\n",
    "import pandas as pd\n",
    "import datetime\n",
    "import time\n",
    "import math"
   ]
  },
  {
   "cell_type": "code",
   "execution_count": 27,
   "metadata": {},
   "outputs": [],
   "source": [
    "# e.g. https://api.cryptowat.ch/markets/:exchange/:pair/ohlc\n",
    "def generate_path(\n",
    "        exchange: str,\n",
    "        pair: str,\n",
    "        min: int,\n",
    "        unixTime: int) -> str:\n",
    "    \n",
    "    return f'https://api.cryptowat.ch/markets/{exchange}/{pair}/ohlc?periods={min}&after={unixTime}'\n",
    "\n",
    "# print(generate_path(1675368565))"
   ]
  },
  {
   "cell_type": "code",
   "execution_count": 28,
   "metadata": {},
   "outputs": [
    {
     "name": "stdout",
     "output_type": "stream",
     "text": [
      "1653613883\n"
     ]
    }
   ],
   "source": [
    "def str_to_timestamp(s: str) -> int:\n",
    "\n",
    "    # str → datetime e.g.'2022-05-27 10:11:23'\n",
    "    dt = datetime.datetime.strptime(s, \"%Y-%m-%d %H:%M:%S\")\n",
    "\n",
    "    # datetime → timestamp\n",
    "    ts = datetime.datetime.timestamp(dt)\n",
    "\n",
    "    return math.floor(ts)\n",
    "\n",
    "ts = str_to_timestamp('2022-05-27 10:11:23')\n",
    "print(ts)"
   ]
  },
  {
   "cell_type": "code",
   "execution_count": 29,
   "metadata": {},
   "outputs": [],
   "source": [
    "async def main(candle: int, date: str, size: int) -> pd.DataFrame:\n",
    "    async with pybotters.Client() as client:\n",
    "        url=\"https://api.cryptowat.ch/markets/bitflyer/btcfxjpy/ohlc?periods=\"\n",
    "        candle=candle*60\n",
    "        period=(\"%s\"%(candle))\n",
    "        period=[period]\n",
    "        beforeurl=\"&before=\"\n",
    "        afterurl=\"&after=\"\n",
    "        # The maximum size of data is 6000 depending on a timing (sometimes you get less than 6000)\n",
    "        before = str_to_timestamp(date)\n",
    "        after = before - (candle * size)\n",
    "        URL=(\"%s%s%s%s%s%s\"%(url,candle,afterurl,after,beforeurl,before))\n",
    "        # e.g https://api.cryptowat.ch/markets/bitflyer/btcjpy/ohlc?periods=86400&after=1483196400\n",
    "\n",
    "        response = await client.get(URL)\n",
    "        body = await response.json()\n",
    "        res = body['result']\n",
    "        \n",
    "        data = []\n",
    "        for i in period:\n",
    "            row = res[i]\n",
    "            for column in row:\n",
    "                if column[4] != 0:\n",
    "                    column = column[0:6]\n",
    "                    data.append(column)\n",
    "\n",
    "        date = [price[0] for price in data]\n",
    "        op = [int(price[1]) for price in data]\n",
    "        hi = [int(price[2]) for price in data]\n",
    "        lo = [int(price[3]) for price in data]\n",
    "        cl = [int(price[4]) for price in data]\n",
    "        date_datetime = map(datetime.datetime.fromtimestamp, date)\n",
    "        dti = pd.DatetimeIndex(date_datetime)\n",
    "        df = pd.DataFrame({\"op\" : op, \"hi\" : hi, \"lo\": lo, \"cl\" : cl}, index=dti)\n",
    "        \n",
    "        return df"
   ]
  },
  {
   "cell_type": "code",
   "execution_count": 30,
   "metadata": {},
   "outputs": [
    {
     "name": "stdout",
     "output_type": "stream",
     "text": [
      "                          op       hi       lo       cl\n",
      "2022-12-03 17:00:00  2300092  2300964  2299067  2299972\n",
      "2022-12-03 17:15:00  2299717  2299949  2296876  2297998\n",
      "2022-12-03 17:30:00  2298287  2299335  2296649  2298026\n",
      "2022-12-03 17:45:00  2298046  2298289  2295326  2295604\n",
      "2022-12-03 18:00:00  2295342  2298682  2293000  2295615\n",
      "...                      ...      ...      ...      ...\n",
      "2023-02-02 19:00:00  3076436  3080258  3074061  3079758\n",
      "2023-02-02 19:15:00  3079612  3080461  3076000  3077042\n",
      "2023-02-02 19:30:00  3076671  3078445  3075097  3076117\n",
      "2023-02-02 19:45:00  3076233  3076907  3071484  3074388\n",
      "2023-02-02 20:00:00  3074288  3075088  3071642  3072208\n",
      "\n",
      "[5865 rows x 4 columns]\n"
     ]
    }
   ],
   "source": [
    "if __name__ == '__main__':\n",
    "    try:\n",
    "        # df = await main(15, 1675368565, 6000)\n",
    "        df = await main(15, '2023-02-02 20:09:25', 6000)\n",
    "        print(df)\n",
    "        df.to_pickle('df_ohlcv.pkl')\n",
    "    except KeyboardInterrupt:\n",
    "        pass"
   ]
  }
 ],
 "metadata": {
  "kernelspec": {
   "display_name": "Python 3",
   "language": "python",
   "name": "python3"
  },
  "language_info": {
   "codemirror_mode": {
    "name": "ipython",
    "version": 3
   },
   "file_extension": ".py",
   "mimetype": "text/x-python",
   "name": "python",
   "nbconvert_exporter": "python",
   "pygments_lexer": "ipython3",
   "version": "3.11.1"
  },
  "orig_nbformat": 4,
  "vscode": {
   "interpreter": {
    "hash": "ad0d3ecc31bdb48673d2cac54857c241eec221b936c60b2b3c0dc41e3431a65e"
   }
  }
 },
 "nbformat": 4,
 "nbformat_minor": 2
}
